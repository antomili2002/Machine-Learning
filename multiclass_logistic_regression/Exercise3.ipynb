{
 "cells": [
  {
   "cell_type": "code",
   "execution_count": 86,
   "id": "0a6f8ecc-c4c2-4035-8163-2d9dbec3c521",
   "metadata": {},
   "outputs": [
    {
     "name": "stdout",
     "output_type": "stream",
     "text": [
      "The autoreload extension is already loaded. To reload it, use:\n",
      "  %reload_ext autoreload\n"
     ]
    }
   ],
   "source": [
    "import numpy as np\n",
    "import matplotlib.pyplot as plt\n",
    "from sklearn.metrics import accuracy_score\n",
    "from tqdm import tqdm #optional, if you do not want to import remove tqdm() from loops!\n",
    "\n",
    "%load_ext autoreload\n",
    "%autoreload 2\n",
    "%matplotlib inline"
   ]
  },
  {
   "cell_type": "markdown",
   "id": "994d943d-9359-43ad-9930-2903c8c6c45e",
   "metadata": {},
   "source": [
    "# 1. Preprocessing\n",
    "\n",
    "We again will be using the MNIST dataset. This time I prepared the dataset as a npy file. We will load the data visualize an example and the implement logistic regression."
   ]
  },
  {
   "cell_type": "code",
   "execution_count": 87,
   "id": "1cc8baa6-58c4-498f-a6c0-e6f491d4e476",
   "metadata": {},
   "outputs": [],
   "source": [
    "# change if the file is in a different directory\n",
    "f_features = \"features.npy\"\n",
    "\n",
    "# change if the file is in a different directory\n",
    "f_labels = \"labels.npy\"\n",
    "\n",
    "# load the data\n",
    "features=np.load(f_features)\n",
    "labels=np.load(f_labels)"
   ]
  },
  {
   "cell_type": "code",
   "execution_count": 88,
   "id": "5ce6e785-2721-43a2-8246-d7920c5d7e5e",
   "metadata": {},
   "outputs": [
    {
     "data": {
      "text/plain": [
       "<matplotlib.image.AxesImage at 0x2a413ccb800>"
      ]
     },
     "execution_count": 88,
     "metadata": {},
     "output_type": "execute_result"
    },
    {
     "data": {
      "image/png": "[encoded data removed]",
      "text/plain": [
       "<Figure size 640x480 with 1 Axes>"
      ]
     },
     "metadata": {},
     "output_type": "display_data"
    }
   ],
   "source": [
    "plt.imshow(features[0,:,:], cmap='gray')"
   ]
  },
  {
   "cell_type": "code",
   "execution_count": 89,
   "id": "ec6857c9-458c-4fe0-92c9-1b69a2491646",
   "metadata": {},
   "outputs": [],
   "source": [
    "# As you know we need to split the data into training, validation and test\n",
    "x_train=features[0:4800,:,:]\n",
    "x_train=x_train.reshape((4800, 784))\n",
    "y_train=labels[0:4800].astype(int)\n",
    "\n",
    "x_val=features[4800:5400,:,:]\n",
    "x_val=x_val.reshape((600, 784))\n",
    "y_val=labels[4800:5400].astype(int)\n",
    "\n",
    "x_test=features[5400:6000,:,:]\n",
    "x_test=x_test.reshape((600, 784))\n",
    "y_test=labels[5400:6000].astype(int)\n",
    "\n",
    "# Note: Normally the split has to be random and stratified for the validation set and random for the test set"
   ]
  },
  {
   "cell_type": "code",
   "execution_count": 90,
   "id": "c4558976-9c71-4ef2-b8b3-710df7773806",
   "metadata": {},
   "outputs": [
    {
     "data": {
      "text/plain": [
       "<matplotlib.image.AxesImage at 0x2a413e7db20>"
      ]
     },
     "execution_count": 90,
     "metadata": {},
     "output_type": "execute_result"
    },
    {
     "data": {
      "image/png": "[encoded data removed]",
      "text/plain": [
       "<Figure size 640x480 with 1 Axes>"
      ]
     },
     "metadata": {},
     "output_type": "display_data"
    }
   ],
   "source": [
    "plt.imshow(x_train[0].reshape(28,28), cmap='gray')"
   ]
  },
  {
   "cell_type": "markdown",
   "id": "d7e1667f-71d4-4563-920b-697305c06659",
   "metadata": {},
   "source": [
    "# 2. Logistic Regression\n",
    "\n",
    "From the lecture we know that logistic regression is given by affined transformation of the data followed by applying the sigmoid function. Our first step is to implement the function we need."
   ]
  },
  {
   "cell_type": "code",
   "execution_count": 91,
   "id": "fc771958-1230-4e6f-aaa0-934be5c74c33",
   "metadata": {},
   "outputs": [],
   "source": [
    "def layer(x, w):\n",
    "    \"\"\"\n",
    "    \n",
    "\n",
    "    Parameters\n",
    "    ----------\n",
    "    x : feature tensor of dimension (N,M)\n",
    "    w : learnable parameters of dimension (M+1, C)\n",
    "\n",
    "    N is the number of samples, M the number of features and C the number of classes.\n",
    "\n",
    "    Returns\n",
    "    -------\n",
    "    res : output tensor of dimension (N, C) \n",
    "\n",
    "    res should be the result of the matrix multiplication of an expanded feature tensor (1 column) with \n",
    "    the learnable parameters.\n",
    "\n",
    "    \"\"\"\n",
    "    \n",
    "    # TODO\n",
    "    # Implement the affine transformation\n",
    "    # Put your code here:\n",
    "    N = x.shape[0]\n",
    "    x_with_bias = np.hstack((np.ones((N, 1), dtype=x.dtype), x))  # Shape (N, M+1)\n",
    "    res = np.dot(x_with_bias, w)  # Shape (N, C)\n",
    "\n",
    "    # END\n",
    "    \n",
    "    return res"
   ]
  },
  {
   "cell_type": "code",
   "execution_count": 92,
   "id": "3442ce9b-1a33-4485-8593-9db7763e8ee1",
   "metadata": {},
   "outputs": [
    {
     "data": {
      "text/plain": [
       "(4800, 10)"
      ]
     },
     "execution_count": 92,
     "metadata": {},
     "output_type": "execute_result"
    }
   ],
   "source": [
    "# test your code\n",
    "\n",
    "w=np.ones((28*28+1,10)) # 28*28 are the number of features and the bias leads to +1\n",
    "res=layer(x_train, w)\n",
    "res.shape"
   ]
  },
  {
   "cell_type": "markdown",
   "id": "7e8333ed-eb24-45f0-b7c0-312a0c8b30b8",
   "metadata": {},
   "source": [
    "## 2.1 Loss Function\n",
    "In exercise sheet 0, we just guessed values, but now we are smarter! First we need to define an appropriate loss function. The dataset has ten target classes, so we want to implement cross-entropy loss:\n",
    "\n",
    "$\\mathcal{L}=\\sum_{y}1\\{\\hat{y}=y\\}(-\\log[p(y)])$ \n",
    "\n",
    "The $p(y)$ is given by the softmax function\n",
    "\n",
    "$p(y_i)=\\frac{e^{x_i}}{\\sum_ie^{x_i}}$\n",
    "\n",
    "So the softmax should return a vector representing the probability of each class."
   ]
  },
  {
   "cell_type": "code",
   "execution_count": 93,
   "id": "26102408-2311-48ef-87e7-97b5537c3c19",
   "metadata": {},
   "outputs": [],
   "source": [
    "def softmax(y):\n",
    "    \"\"\"\n",
    "    \n",
    "\n",
    "    Parameters\n",
    "    ----------\n",
    "    y : Prediction tensor of dimension (N, C). \n",
    "    N : Number of samples\n",
    "\n",
    "    Returns\n",
    "    -------\n",
    "    res : Softmax transformed tensor of dimension (N,C)\n",
    "\n",
    "    res should be the result of the softmax transformation of y.\n",
    "\n",
    "    \"\"\"\n",
    "    \n",
    "    # TODO \n",
    "    # Implement the softmax function\n",
    "    # Put your code here:\n",
    "    \n",
    "    # subtract max for numeric stability\n",
    "    y_stable = y - np.max(y, axis=1, keepdims=True)\n",
    "    \n",
    "    # compute the softmax result\n",
    "    res = np.exp(y_stable) / np.sum(np.exp(y_stable), axis=1, keepdims=True)\n",
    "\n",
    "    # END\n",
    "    return res"
   ]
  },
  {
   "cell_type": "code",
   "execution_count": 94,
   "id": "95bcbdb3-674a-4a11-8e49-4c4dbbf98d34",
   "metadata": {},
   "outputs": [],
   "source": [
    "def model(x, w):\n",
    "    \"\"\"\n",
    "    \n",
    "    Parameters\n",
    "    ----------\n",
    "    x : feature tensor of dimension (N,M)\n",
    "    w : learnable parameters of dimension (M+1, C)\n",
    "\n",
    "    N is the number of samples, M the number of features and C the number of classes.\n",
    "\n",
    "    Returns\n",
    "    -------\n",
    "    res : Prediction tensor of dimension (N,1)\n",
    "\n",
    "    res should be the classification of our model \n",
    "\n",
    "    \"\"\"\n",
    "    \n",
    "    # TODO\n",
    "    # Put your code here:\n",
    "\n",
    "    logits = layer(x, w)  # shape (N, C)\n",
    "\n",
    "    probs = softmax(logits)\n",
    "\n",
    "    # Get the predicted class labels\n",
    "    res = np.argmax(probs, axis=1)\n",
    "    \n",
    "    # END\n",
    "    \n",
    "    return res"
   ]
  },
  {
   "cell_type": "markdown",
   "id": "0888da5b-2695-43dd-be4f-c654942b1703",
   "metadata": {},
   "source": [
    "## 2.2 Optimization\n",
    "We have already learned about optimization algorithms. In this exercise we want to learn more about gradient descent, stochastic gradient descent and Newton’s method."
   ]
  },
  {
   "cell_type": "markdown",
   "id": "4ee3da02-c0ab-4744-9c6d-105752822069",
   "metadata": {},
   "source": [
    "### 2.2.1 Gradient Descent\n",
    "For gradient descent we need to updates our parameters using the steepest descent of the gradient with respect to the parameter. It is given by the equation:\n",
    "\n",
    "$w_{n+1}=w_n-\\epsilon_n\\nabla\\mathcal{L(w_n)}$\n",
    "\n",
    "$\\epsilon_n$ is the learning rate and a hyperparameter of our optimization approach. We can calculate the gradient by using the composition rule for derivatives.\n",
    "\n",
    "The challenge is to broadcast the right dimensions!"
   ]
  },
  {
   "cell_type": "code",
   "execution_count": 95,
   "id": "677f68ab-a9f4-4c97-8d96-49ff6dbd9a71",
   "metadata": {},
   "outputs": [],
   "source": [
    "def classTensor(y, C):\n",
    "    \"\"\"\n",
    "    \n",
    "    Parameters\n",
    "    ----------\n",
    "    y : class vector of dimension N containing the true classes\n",
    "    C : number of classes\n",
    "\n",
    "\n",
    "    Returns\n",
    "    -------\n",
    "    res : class tensor of dimension (N,C)\n",
    "\n",
    "    We want to transform the vector into a binary tensor. If res_ij=1 then it means that at sample i we have class j. Otherwise \n",
    "    res_ij=0.\n",
    "\n",
    "    \"\"\"  \n",
    "\n",
    "\n",
    "    # TODO\n",
    "    # Implement the tensor transformation\n",
    "    # Put your code here:\n",
    "\n",
    "    # zero matrix of shape (N, C)\n",
    "    N = len(y)\n",
    "    res = np.zeros((N, C), dtype=int)\n",
    "    \n",
    "    # set index to 1\n",
    "    res[np.arange(N), y] = 1\n",
    "    \n",
    "    # END\n",
    "\n",
    "    return res"
   ]
  },
  {
   "cell_type": "code",
   "execution_count": 96,
   "id": "bf0bf99f-0a75-4f6b-94af-86cdfb26cbab",
   "metadata": {},
   "outputs": [],
   "source": [
    "def gradientDescent(x, y, w, learningRate):\n",
    "    \"\"\"\n",
    "    \n",
    "    Parameters\n",
    "    ----------\n",
    "    x : feature tensor of dimension (N,M)\n",
    "    y : class vector of dimension N containing the true classes\n",
    "    w : learnable parameters of dimension (M+1, C)\n",
    "\n",
    "    N is the number of samples, M the number of features and C the number of classes.\n",
    "\n",
    "    Returns\n",
    "    -------\n",
    "    res : updated learnable parameters\n",
    "\n",
    "    \"\"\"\n",
    "    # TODO \n",
    "    # Implement one update iteration\n",
    "\n",
    "    # bias term\n",
    "    x_bias = np.hstack([x, np.ones((x.shape[0], 1))])  # Shape: (N, M+1)\n",
    "\n",
    "    # predictions\n",
    "    logits = layer(x, w)  # Shape: (N, C)\n",
    "    probs = softmax(logits)  # Shape: (N, C)\n",
    "\n",
    "    # one-hot encoding \n",
    "    y_one_hot = classTensor(y, w.shape[1])  # Shape: (N, C)\n",
    "\n",
    "    # gradient\n",
    "    grad = np.dot(x_bias.T, (probs - y_one_hot)) / x.shape[0]  # Shape: (M+1, C)\n",
    "\n",
    "    # update weights\n",
    "    res = w - learningRate * grad\n",
    " \n",
    "\n",
    "    return res"
   ]
  },
  {
   "cell_type": "markdown",
   "id": "2bd4ca5c-6bc3-4aa4-ba35-d1b34d6a887a",
   "metadata": {},
   "source": [
    "### 2.2.2 Stochastic Gradient Descent\n",
    "In this section implement stochastic gradient descent by writing the function \"def stochasticGradientDescent(...)\""
   ]
  },
  {
   "cell_type": "code",
   "execution_count": 97,
   "id": "c7f5d38b-9254-4260-98e8-6a93c96202f0",
   "metadata": {},
   "outputs": [],
   "source": [
    "# TODO\n",
    "# Write the function stochasticGradientDescent\n",
    "def stochasticGradientDescent(x, y, w, learningRate):\n",
    "    \n",
    "    \"\"\"\n",
    "    Parameters\n",
    "    ----------\n",
    "    x : feature tensor of dimension (N, M)\n",
    "    y : class vector of dimension N containing the true classes\n",
    "    w : learnable parameters of dimension (M+1, C)\n",
    "\n",
    "    Returns\n",
    "    -------\n",
    "    res : updated learnable parameters\n",
    "    \"\"\"\n",
    "\n",
    "\n",
    "    # Shuffle the data\n",
    "    indices = np.arange(x.shape[0])\n",
    "    np.random.shuffle(indices)\n",
    "    x_shuffled = x[indices]\n",
    "    y_shuffled = y[indices]\n",
    "\n",
    "    # Iterate over each sample\n",
    "    for i in range(x.shape[0]):\n",
    "        xi = x_shuffled[i:i+1, :]  # Shape: (1, M)\n",
    "        yi = y_shuffled[i:i+1]      # Shape: (1,)\n",
    "\n",
    "        # Add bias term\n",
    "        xi_bias = np.hstack([xi, np.ones((1, 1))])  # Shape: (1, M+1)\n",
    "\n",
    "        # Compute predictions\n",
    "        logits = np.dot(xi_bias, w)  # Shape: (1, C)\n",
    "        probs = softmax(logits)      # Shape: (1, C)\n",
    "\n",
    "        # One-hot encode the true label\n",
    "        yi_one_hot = classTensor(yi, w.shape[1])  # Shape: (1, C)\n",
    "\n",
    "        # Compute the gradient\n",
    "        grad = np.dot(xi_bias.T, (probs - yi_one_hot))  # Shape: (M+1, C)\n",
    "\n",
    "        # Update weights\n",
    "        w = w - learningRate * grad\n",
    "\n",
    "    res = w\n",
    "    return res"
   ]
  },
  {
   "cell_type": "code",
   "execution_count": null,
   "id": "47222ce8-2836-4347-a18e-ac651ff9e95d",
   "metadata": {},
   "outputs": [],
   "source": []
  },
  {
   "cell_type": "code",
   "execution_count": null,
   "id": "9a939d71-3e2b-4cdf-8c1d-21a4273a1cad",
   "metadata": {},
   "outputs": [],
   "source": []
  },
  {
   "cell_type": "code",
   "execution_count": null,
   "id": "af0291e2-3120-420e-ba16-1eea017bd3f1",
   "metadata": {},
   "outputs": [],
   "source": []
  },
  {
   "cell_type": "code",
   "execution_count": null,
   "id": "4c488145-c036-488a-a736-46636c24cc60",
   "metadata": {},
   "outputs": [],
   "source": []
  },
  {
   "cell_type": "markdown",
   "id": "0ab1fa70-d69a-4c19-b7f2-46c8109e8750",
   "metadata": {},
   "source": [
    "### 2.2.3 Newton’s method\n",
    "In this section implement Newton's method by writing the function \"def newtonMethod(...)\""
   ]
  },
  {
   "cell_type": "code",
   "execution_count": 98,
   "id": "1553e22f-b7ca-4ca5-aee6-8a4e29ef6385",
   "metadata": {},
   "outputs": [],
   "source": [
    "# TODO\n",
    "# Write the function newtonMethod\n",
    "def newtonMethod(x, y, w):\n",
    "\n",
    "    \"\"\"\n",
    "    Parameters\n",
    "    ----------\n",
    "    x : feature tensor of dimension (N, M)\n",
    "    y : class vector of dimension N containing the true classes\n",
    "    w : learnable parameters of dimension (M+1, C)\n",
    "\n",
    "    Returns\n",
    "    -------\n",
    "    res : updated learnable parameters\n",
    "    \"\"\"\n",
    "    \n",
    "    # bias term to x\n",
    "    x_bias = np.hstack([x, np.ones((x.shape[0], 1))])  # Shape: (N, M+1)\n",
    "\n",
    "    # predictions\n",
    "    logits = layer(x, w)  # Shape: (N, C)\n",
    "    probs = softmax(logits)  # Shape: (N, C)\n",
    "\n",
    "    # one-hot encoding\n",
    "    y_one_hot = classTensor(y, w.shape[1])  # Shape: (N, C)\n",
    "\n",
    "    # gradient\n",
    "    grad = np.dot(x_bias.T, (probs - y_one_hot))  # Shape: (M+1, C)\n",
    "\n",
    "    # Hessian matrix approximation\n",
    "    N = x.shape[0]\n",
    "    M_plus_1 = x_bias.shape[1]\n",
    "    C = w.shape[1]\n",
    "    H = np.zeros((M_plus_1 * C, M_plus_1 * C))\n",
    "\n",
    "    for n in range(N):\n",
    "        xi = x_bias[n:n+1, :].T  # Shape: (M+1, 1)\n",
    "        pi = probs[n:n+1, :].T   # Shape: (C, 1)\n",
    "        Pi = np.diag(pi.flatten()) - np.dot(pi, pi.T)  # Shape: (C, C)\n",
    "        Hi = np.kron(Pi, np.dot(xi, xi.T))            # Shape: ((M+1)*C, (M+1)*C)\n",
    "        H += Hi\n",
    "\n",
    "    # Avoid division by zero\n",
    "    H += np.eye(H.shape[0]) * 1e-5\n",
    "\n",
    "    grad_flat = grad.flatten()\n",
    "\n",
    "    # solve for the update\n",
    "    delta_w_flat = np.linalg.solve(H, grad_flat)\n",
    "\n",
    "    # reshape the update to the shape of w\n",
    "    delta_w = delta_w_flat.reshape(w.shape)\n",
    "\n",
    "    # update weights\n",
    "    res = w - delta_w\n",
    "    return res"
   ]
  },
  {
   "cell_type": "code",
   "execution_count": null,
   "id": "ff13971e-5f4f-476a-ad3c-02d65e0b79a3",
   "metadata": {},
   "outputs": [],
   "source": []
  },
  {
   "cell_type": "code",
   "execution_count": null,
   "id": "cb6aace5-0996-4c6e-bae9-961c6354e111",
   "metadata": {},
   "outputs": [],
   "source": []
  },
  {
   "cell_type": "code",
   "execution_count": null,
   "id": "6a54b920-893e-4e51-9cea-4c5eee08962a",
   "metadata": {},
   "outputs": [],
   "source": []
  },
  {
   "cell_type": "code",
   "execution_count": null,
   "id": "1cbc8ab9-e8b9-4873-9d7b-f7f28ca00fa5",
   "metadata": {},
   "outputs": [],
   "source": []
  },
  {
   "cell_type": "markdown",
   "id": "9a7fc664-a615-441d-bf07-235a6fb23a2e",
   "metadata": {},
   "source": [
    "# 3. Training\n",
    "Now use the MNIST dataset to train a classifier and compare the results."
   ]
  },
  {
   "cell_type": "markdown",
   "id": "572200c7-7fa2-4312-953a-ae98ff6d5121",
   "metadata": {},
   "source": [
    "# 3.1 Train and Plot Gradient Descent"
   ]
  },
  {
   "cell_type": "code",
   "execution_count": 99,
   "id": "f973b7dd-41a7-4486-b914-7a41360ee73c",
   "metadata": {},
   "outputs": [
    {
     "name": "stderr",
     "output_type": "stream",
     "text": [
      "100%|██████████| 100/100 [00:05<00:00, 16.73it/s]\n"
     ]
    }
   ],
   "source": [
    "acc_train=[]\n",
    "acc_val=[]\n",
    "\n",
    "n_epochs=100\n",
    "learningRate=0.001\n",
    "\n",
    "# Maybe you find a better way to initialize the learnable parameters\n",
    "w=np.zeros((785,10)) * 0.01\n",
    "\n",
    "for e in tqdm(range(n_epochs)):\n",
    "\n",
    "    w=gradientDescent(x_train,y_train, w,learningRate)\n",
    "    pred=model(x_train,w)\n",
    "\n",
    "    acc_train.append(accuracy_score(y_train, pred))\n",
    "    acc_val.append(accuracy_score(y_val, model(x_val,w)))"
   ]
  },
  {
   "cell_type": "code",
   "execution_count": 100,
   "id": "507856a8-a582-462f-86a1-33f2b787cff6",
   "metadata": {},
   "outputs": [
    {
     "data": {
      "text/plain": [
       "<matplotlib.legend.Legend at 0x2a413ec7d10>"
      ]
     },
     "execution_count": 100,
     "metadata": {},
     "output_type": "execute_result"
    },
    {
     "data": {
      "image/png": "[encoded data removed]",
      "text/plain": [
       "<Figure size 600x500 with 1 Axes>"
      ]
     },
     "metadata": {},
     "output_type": "display_data"
    }
   ],
   "source": [
    "fig, ax = plt.subplots(figsize=(6, 5))\n",
    "\n",
    "\n",
    "ax.set_xlabel(\"Epochs\")\n",
    "ax.set_ylabel(\"Accuracy\")\n",
    "\n",
    "ax.plot(acc_val, c=\"orange\", label=\"val\", lw=1.5)\n",
    "ax.plot(acc_train, c=\"blue\", label=\"train\",lw=1.5)\n",
    "ax.grid(color='gray', linestyle='dashed', alpha=0.3)\n",
    "ax.legend(loc=\"lower right\", fontsize=11)"
   ]
  },
  {
   "cell_type": "markdown",
   "id": "06c448ab-9115-4691-85ee-e100287cafc0",
   "metadata": {},
   "source": [
    "## 3.2 TODO: Implement training for stochastic gradient descent"
   ]
  },
  {
   "cell_type": "code",
   "execution_count": 101,
   "id": "90ebada2-052f-4023-ad27-8634a11e69b9",
   "metadata": {},
   "outputs": [
    {
     "name": "stderr",
     "output_type": "stream",
     "text": [
      "100%|██████████| 10/10 [00:03<00:00,  2.54it/s]\n"
     ]
    }
   ],
   "source": [
    "acc_train_sgd = []\n",
    "acc_val_sgd = []\n",
    "\n",
    "n_epochs = 10  # Usually more epochs are needed for SGD\n",
    "learningRate = 0.01\n",
    "\n",
    "# Initialize weights randomly\n",
    "w_sgd = np.random.randn(785, 10) * 0.01\n",
    "\n",
    "for e in tqdm(range(n_epochs)):\n",
    "    w_sgd = stochasticGradientDescent(x_train, y_train, w_sgd, learningRate)\n",
    "    pred_train = model(x_train, w_sgd)\n",
    "    pred_val = model(x_val, w_sgd)\n",
    "\n",
    "    acc_train_sgd.append(accuracy_score(y_train, pred_train))\n",
    "    acc_val_sgd.append(accuracy_score(y_val, pred_val))\n"
   ]
  },
  {
   "cell_type": "code",
   "execution_count": 102,
   "id": "0efef086-15fb-4f12-9f5b-f6191e9452ab",
   "metadata": {},
   "outputs": [
    {
     "data": {
      "image/png": "[encoded data removed]",
      "text/plain": [
       "<Figure size 800x600 with 1 Axes>"
      ]
     },
     "metadata": {},
     "output_type": "display_data"
    }
   ],
   "source": [
    "fig, ax = plt.subplots(figsize=(8, 6))\n",
    "\n",
    "ax.set_xlabel(\"Epochs\")\n",
    "ax.set_ylabel(\"Accuracy\")\n",
    "ax.set_title(\"SGD: Training vs. Validation Accuracy\")\n",
    "\n",
    "ax.plot(acc_train_sgd, c=\"blue\", label=\"Training Accuracy\", lw=1.5)\n",
    "ax.plot(acc_val_sgd, c=\"orange\", label=\"Validation Accuracy\", lw=1.5)\n",
    "ax.grid(color='gray', linestyle='dashed', alpha=0.3)\n",
    "ax.legend(loc=\"lower right\", fontsize=11)\n",
    "\n",
    "plt.show()\n"
   ]
  },
  {
   "cell_type": "code",
   "execution_count": null,
   "id": "45b857a2-d003-4577-a07f-47572641ae1c",
   "metadata": {},
   "outputs": [],
   "source": []
  },
  {
   "cell_type": "markdown",
   "id": "2c5b9f06-9c7b-436d-9183-f3a80135835c",
   "metadata": {},
   "source": [
    "## 3.3 TODO: Implement training for newton's method"
   ]
  },
  {
   "cell_type": "code",
   "execution_count": 103,
   "id": "ee7ded60-0d06-44ed-9789-2a451bf4fc33",
   "metadata": {},
   "outputs": [
    {
     "name": "stderr",
     "output_type": "stream",
     "text": [
      "  0%|          | 0/5 [05:05<?, ?it/s]\n"
     ]
    },
    {
     "ename": "KeyboardInterrupt",
     "evalue": "",
     "output_type": "error",
     "traceback": [
      "\u001b[1;31m---------------------------------------------------------------------------\u001b[0m",
      "\u001b[1;31mKeyboardInterrupt\u001b[0m                         Traceback (most recent call last)",
      "Cell \u001b[1;32mIn[103], line 10\u001b[0m\n\u001b[0;32m      7\u001b[0m w_newton \u001b[38;5;241m=\u001b[39m np\u001b[38;5;241m.\u001b[39mrandom\u001b[38;5;241m.\u001b[39mrandn(\u001b[38;5;241m785\u001b[39m, \u001b[38;5;241m10\u001b[39m) \u001b[38;5;241m*\u001b[39m \u001b[38;5;241m0.01\u001b[39m\n\u001b[0;32m      9\u001b[0m \u001b[38;5;28;01mfor\u001b[39;00m e \u001b[38;5;129;01min\u001b[39;00m tqdm(\u001b[38;5;28mrange\u001b[39m(n_epochs)):\n\u001b[1;32m---> 10\u001b[0m     w_newton \u001b[38;5;241m=\u001b[39m \u001b[43mnewtonMethod\u001b[49m\u001b[43m(\u001b[49m\u001b[43mx_train\u001b[49m\u001b[43m,\u001b[49m\u001b[43m \u001b[49m\u001b[43my_train\u001b[49m\u001b[43m,\u001b[49m\u001b[43m \u001b[49m\u001b[43mw_newton\u001b[49m\u001b[43m)\u001b[49m\n\u001b[0;32m     11\u001b[0m     pred_train \u001b[38;5;241m=\u001b[39m model(x_train, w_newton)\n\u001b[0;32m     12\u001b[0m     pred_val \u001b[38;5;241m=\u001b[39m model(x_val, w_newton)\n",
      "Cell \u001b[1;32mIn[98], line 40\u001b[0m, in \u001b[0;36mnewtonMethod\u001b[1;34m(x, y, w)\u001b[0m\n\u001b[0;32m     38\u001b[0m     pi \u001b[38;5;241m=\u001b[39m probs[n:n\u001b[38;5;241m+\u001b[39m\u001b[38;5;241m1\u001b[39m, :]\u001b[38;5;241m.\u001b[39mT   \u001b[38;5;66;03m# Shape: (C, 1)\u001b[39;00m\n\u001b[0;32m     39\u001b[0m     Pi \u001b[38;5;241m=\u001b[39m np\u001b[38;5;241m.\u001b[39mdiag(pi\u001b[38;5;241m.\u001b[39mflatten()) \u001b[38;5;241m-\u001b[39m np\u001b[38;5;241m.\u001b[39mdot(pi, pi\u001b[38;5;241m.\u001b[39mT)  \u001b[38;5;66;03m# Shape: (C, C)\u001b[39;00m\n\u001b[1;32m---> 40\u001b[0m     Hi \u001b[38;5;241m=\u001b[39m \u001b[43mnp\u001b[49m\u001b[38;5;241;43m.\u001b[39;49m\u001b[43mkron\u001b[49m\u001b[43m(\u001b[49m\u001b[43mPi\u001b[49m\u001b[43m,\u001b[49m\u001b[43m \u001b[49m\u001b[43mnp\u001b[49m\u001b[38;5;241;43m.\u001b[39;49m\u001b[43mdot\u001b[49m\u001b[43m(\u001b[49m\u001b[43mxi\u001b[49m\u001b[43m,\u001b[49m\u001b[43m \u001b[49m\u001b[43mxi\u001b[49m\u001b[38;5;241;43m.\u001b[39;49m\u001b[43mT\u001b[49m\u001b[43m)\u001b[49m\u001b[43m)\u001b[49m            \u001b[38;5;66;03m# Shape: ((M+1)*C, (M+1)*C)\u001b[39;00m\n\u001b[0;32m     41\u001b[0m     H \u001b[38;5;241m+\u001b[39m\u001b[38;5;241m=\u001b[39m Hi\n\u001b[0;32m     43\u001b[0m \u001b[38;5;66;03m# Avoid division by zero\u001b[39;00m\n",
      "File \u001b[1;32mc:\\Users\\antom\\anaconda3\\envs\\env000\\Lib\\site-packages\\numpy\\lib\\shape_base.py:1173\u001b[0m, in \u001b[0;36mkron\u001b[1;34m(a, b)\u001b[0m\n\u001b[0;32m   1171\u001b[0m b_arr \u001b[38;5;241m=\u001b[39m expand_dims(b_arr, axis\u001b[38;5;241m=\u001b[39m\u001b[38;5;28mtuple\u001b[39m(\u001b[38;5;28mrange\u001b[39m(\u001b[38;5;241m0\u001b[39m, nd\u001b[38;5;241m*\u001b[39m\u001b[38;5;241m2\u001b[39m, \u001b[38;5;241m2\u001b[39m)))\n\u001b[0;32m   1172\u001b[0m \u001b[38;5;66;03m# In case of `mat`, convert result to `array`\u001b[39;00m\n\u001b[1;32m-> 1173\u001b[0m result \u001b[38;5;241m=\u001b[39m \u001b[43m_nx\u001b[49m\u001b[38;5;241;43m.\u001b[39;49m\u001b[43mmultiply\u001b[49m\u001b[43m(\u001b[49m\u001b[43ma_arr\u001b[49m\u001b[43m,\u001b[49m\u001b[43m \u001b[49m\u001b[43mb_arr\u001b[49m\u001b[43m,\u001b[49m\u001b[43m \u001b[49m\u001b[43msubok\u001b[49m\u001b[38;5;241;43m=\u001b[39;49m\u001b[43m(\u001b[49m\u001b[38;5;129;43;01mnot\u001b[39;49;00m\u001b[43m \u001b[49m\u001b[43mis_any_mat\u001b[49m\u001b[43m)\u001b[49m\u001b[43m)\u001b[49m\n\u001b[0;32m   1175\u001b[0m \u001b[38;5;66;03m# Reshape back\u001b[39;00m\n\u001b[0;32m   1176\u001b[0m result \u001b[38;5;241m=\u001b[39m result\u001b[38;5;241m.\u001b[39mreshape(_nx\u001b[38;5;241m.\u001b[39mmultiply(as_, bs))\n",
      "\u001b[1;31mKeyboardInterrupt\u001b[0m: "
     ]
    }
   ],
   "source": [
    "acc_train_newton = []\n",
    "acc_val_newton = []\n",
    "\n",
    "n_epochs = 5  # Fewer epochs due to computational cost\n",
    "\n",
    "# Initialize weights randomly\n",
    "w_newton = np.random.randn(785, 10) * 0.01\n",
    "\n",
    "for e in tqdm(range(n_epochs)):\n",
    "    w_newton = newtonMethod(x_train, y_train, w_newton)\n",
    "    pred_train = model(x_train, w_newton)\n",
    "    pred_val = model(x_val, w_newton)\n",
    "\n",
    "    acc_train_newton.append(accuracy_score(y_train, pred_train))\n",
    "    acc_val_newton.append(accuracy_score(y_val, pred_val))\n"
   ]
  },
  {
   "cell_type": "code",
   "execution_count": null,
   "id": "ec27a630-6f5d-4659-abc3-e5a0a0c2901c",
   "metadata": {},
   "outputs": [],
   "source": [
    "fig, ax = plt.subplots(figsize=(8, 6))\n",
    "\n",
    "ax.set_xlabel(\"Epochs\")\n",
    "ax.set_ylabel(\"Accuracy\")\n",
    "ax.set_title(\"Newton's Method: Training vs. Validation Accuracy\")\n",
    "\n",
    "ax.plot(acc_train_newton, c=\"blue\", label=\"Training Accuracy\", lw=1.5)\n",
    "ax.plot(acc_val_newton, c=\"orange\", label=\"Validation Accuracy\", lw=1.5)\n",
    "ax.grid(color='gray', linestyle='dashed', alpha=0.3)\n",
    "ax.legend(loc=\"lower right\", fontsize=11)\n",
    "\n",
    "plt.show()\n"
   ]
  },
  {
   "cell_type": "code",
   "execution_count": null,
   "id": "0fcb4a7a-15a0-4426-9e45-7d365cda7378",
   "metadata": {},
   "outputs": [],
   "source": []
  }
 ],
 "metadata": {
  "kernelspec": {
   "display_name": "env000",
   "language": "python",
   "name": "python3"
  },
  "language_info": {
   "codemirror_mode": {
    "name": "ipython",
    "version": 3
   },
   "file_extension": ".py",
   "mimetype": "text/x-python",
   "name": "python",
   "nbconvert_exporter": "python",
   "pygments_lexer": "ipython3",
   "version": "3.12.3"
  }
 },
 "nbformat": 4,
 "nbformat_minor": 5
}
